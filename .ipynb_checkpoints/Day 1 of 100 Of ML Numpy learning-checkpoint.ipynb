{
 "cells": [
  {
   "cell_type": "markdown",
   "id": "ae7fe453",
   "metadata": {},
   "source": [
    "# Numpy Demonstraion"
   ]
  },
  {
   "cell_type": "markdown",
   "id": "4edf5229",
   "metadata": {},
   "source": [
    "# Array & rang"
   ]
  },
  {
   "cell_type": "code",
   "execution_count": 101,
   "id": "83e6f39a",
   "metadata": {},
   "outputs": [],
   "source": [
    "import numpy as np\n"
   ]
  },
  {
   "cell_type": "code",
   "execution_count": 102,
   "id": "bb9201d7",
   "metadata": {},
   "outputs": [
    {
     "data": {
      "text/plain": [
       "array([ 0,  1,  2,  3,  4,  5,  6,  7,  8,  9, 10, 11, 12, 13, 14, 15, 16,\n",
       "       17, 18, 19, 20, 21, 22, 23, 24, 25, 26, 27, 28, 29, 30, 31, 32, 33,\n",
       "       34, 35, 36, 37, 38, 39, 40, 41, 42, 43, 44, 45, 46, 47, 48, 49, 50,\n",
       "       51, 52, 53, 54, 55, 56, 57, 58, 59, 60, 61, 62, 63, 64, 65, 66, 67,\n",
       "       68, 69, 70, 71, 72, 73, 74, 75, 76, 77, 78, 79, 80, 81, 82, 83, 84,\n",
       "       85, 86, 87, 88, 89, 90, 91, 92, 93, 94, 95, 96, 97, 98, 99])"
      ]
     },
     "execution_count": 102,
     "metadata": {},
     "output_type": "execute_result"
    }
   ],
   "source": [
    "array = np.arange(100)\n",
    "array"
   ]
  },
  {
   "cell_type": "code",
   "execution_count": 103,
   "id": "09673c3e",
   "metadata": {},
   "outputs": [
    {
     "data": {
      "text/plain": [
       "400"
      ]
     },
     "execution_count": 103,
     "metadata": {},
     "output_type": "execute_result"
    }
   ],
   "source": [
    "array.size*array.itemsize"
   ]
  },
  {
   "cell_type": "code",
   "execution_count": 104,
   "id": "e709fc03",
   "metadata": {},
   "outputs": [
    {
     "name": "stdout",
     "output_type": "stream",
     "text": [
      "4\n",
      "int32\n"
     ]
    }
   ],
   "source": [
    "a = np.array([[1,2], [2,3], [4,5]])\n",
    "print(a.itemsize) # int occupy 4 Bits so\n",
    "print(a.dtype)"
   ]
  },
  {
   "cell_type": "code",
   "execution_count": 105,
   "id": "735e1972",
   "metadata": {},
   "outputs": [
    {
     "data": {
      "text/plain": [
       "array([[1, 2],\n",
       "       [2, 3],\n",
       "       [4, 5]])"
      ]
     },
     "execution_count": 105,
     "metadata": {},
     "output_type": "execute_result"
    }
   ],
   "source": [
    "a"
   ]
  },
  {
   "cell_type": "code",
   "execution_count": 106,
   "id": "4f44a1af",
   "metadata": {},
   "outputs": [
    {
     "name": "stdout",
     "output_type": "stream",
     "text": [
      "8\n",
      "float64\n",
      "6\n",
      "(3, 2)\n"
     ]
    }
   ],
   "source": [
    "a = np.array([[1,2], [2,3], [4,5]], dtype = np.float64) \n",
    "print(a.itemsize) # float occupy 8 Bits so\n",
    "print(a.dtype)\n",
    "print(a.size)\n",
    "print(a.shape) # row, column"
   ]
  },
  {
   "cell_type": "code",
   "execution_count": null,
   "id": "8ae05f7a",
   "metadata": {},
   "outputs": [],
   "source": []
  },
  {
   "cell_type": "code",
   "execution_count": null,
   "id": "d708d34b",
   "metadata": {},
   "outputs": [],
   "source": []
  },
  {
   "cell_type": "code",
   "execution_count": 107,
   "id": "8d67855d",
   "metadata": {},
   "outputs": [
    {
     "name": "stdout",
     "output_type": "stream",
     "text": [
      "[[1.+0.j 2.+0.j]\n",
      " [2.+0.j 3.+0.j]\n",
      " [4.+0.j 5.+0.j]]\n",
      "16\n",
      "complex128\n",
      "6\n",
      "(3, 2)\n"
     ]
    }
   ],
   "source": [
    "a = np.array([[1,2], [2,3], [4,5]], dtype = complex) \n",
    "print(a)\n",
    "print(a.itemsize) # float occupy 8 Bits so\n",
    "print(a.dtype)\n",
    "print(a.size)\n",
    "print(a.shape) # row, column"
   ]
  },
  {
   "cell_type": "code",
   "execution_count": 108,
   "id": "6f386159",
   "metadata": {},
   "outputs": [
    {
     "name": "stdout",
     "output_type": "stream",
     "text": [
      "4\n",
      "int32\n",
      "3\n",
      "(3,)\n"
     ]
    }
   ],
   "source": [
    "a = np.array([1, 2, 3])\n",
    "print(a.itemsize)\n",
    "print(a.dtype)\n",
    "print(a.size)\n",
    "print(a.shape)"
   ]
  },
  {
   "cell_type": "markdown",
   "id": "74389492",
   "metadata": {},
   "source": [
    "# Zeroes \n"
   ]
  },
  {
   "cell_type": "code",
   "execution_count": 109,
   "id": "874a98f0",
   "metadata": {},
   "outputs": [
    {
     "name": "stdout",
     "output_type": "stream",
     "text": [
      "[[0. 0. 0. 0.]\n",
      " [0. 0. 0. 0.]\n",
      " [0. 0. 0. 0.]]\n"
     ]
    }
   ],
   "source": [
    "a = np.zeros((3, 4))\n",
    "print(a)"
   ]
  },
  {
   "cell_type": "code",
   "execution_count": 110,
   "id": "d7d55b37",
   "metadata": {},
   "outputs": [
    {
     "name": "stdout",
     "output_type": "stream",
     "text": [
      "[[1. 1. 1. 1.]\n",
      " [1. 1. 1. 1.]\n",
      " [1. 1. 1. 1.]]\n"
     ]
    }
   ],
   "source": [
    "a = np.ones((3, 4))\n",
    "print(a)"
   ]
  },
  {
   "cell_type": "code",
   "execution_count": 111,
   "id": "565e13a0",
   "metadata": {},
   "outputs": [
    {
     "name": "stdout",
     "output_type": "stream",
     "text": [
      "[1 2 3 4]\n"
     ]
    }
   ],
   "source": [
    "l = np.arange(1, 5)\n",
    "print(l)"
   ]
  },
  {
   "cell_type": "code",
   "execution_count": 112,
   "id": "7bf99073",
   "metadata": {},
   "outputs": [
    {
     "name": "stdout",
     "output_type": "stream",
     "text": [
      "[1 3]\n"
     ]
    }
   ],
   "source": [
    "l = np.arange(1, 5, 2) # ( start, stop, number of steps )\n",
    "print(l)"
   ]
  },
  {
   "cell_type": "code",
   "execution_count": 113,
   "id": "195f00d6",
   "metadata": {},
   "outputs": [
    {
     "name": "stdout",
     "output_type": "stream",
     "text": [
      "[1.         1.44444444 1.88888889 2.33333333 2.77777778 3.22222222\n",
      " 3.66666667 4.11111111 4.55555556 5.        ]\n"
     ]
    }
   ],
   "source": [
    "l = np.linspace(1, 5, 10) # (start, stop, total number between start & stop with equal distance)\n",
    "print(l)"
   ]
  },
  {
   "cell_type": "markdown",
   "id": "d9e9410c",
   "metadata": {},
   "source": [
    "# Reshape\n"
   ]
  },
  {
   "cell_type": "code",
   "execution_count": 114,
   "id": "77ca1ed6",
   "metadata": {},
   "outputs": [
    {
     "name": "stdout",
     "output_type": "stream",
     "text": [
      "[[1 2]\n",
      " [2 3]\n",
      " [3 4]]\n"
     ]
    }
   ],
   "source": [
    "a = np.array([[1,2], [2,3], [3,4]])\n",
    "print(a)"
   ]
  },
  {
   "cell_type": "code",
   "execution_count": 115,
   "id": "4a873d0f",
   "metadata": {},
   "outputs": [
    {
     "data": {
      "text/plain": [
       "array([[1, 2, 2],\n",
       "       [3, 3, 4]])"
      ]
     },
     "execution_count": 115,
     "metadata": {},
     "output_type": "execute_result"
    }
   ],
   "source": [
    "a.reshape(2, 3) # 2*3 = 6 size of array"
   ]
  },
  {
   "cell_type": "code",
   "execution_count": 116,
   "id": "870bb015",
   "metadata": {},
   "outputs": [
    {
     "data": {
      "text/plain": [
       "array([1, 2, 2, 3, 3, 4])"
      ]
     },
     "execution_count": 116,
     "metadata": {},
     "output_type": "execute_result"
    }
   ],
   "source": [
    "a.ravel() # flatern an array"
   ]
  },
  {
   "cell_type": "code",
   "execution_count": 117,
   "id": "313d6eaf",
   "metadata": {},
   "outputs": [
    {
     "name": "stdout",
     "output_type": "stream",
     "text": [
      "1\n",
      "4\n",
      "15\n"
     ]
    }
   ],
   "source": [
    "print(a.min())\n",
    "print(a.max())\n",
    "print(a.sum())"
   ]
  },
  {
   "cell_type": "code",
   "execution_count": 118,
   "id": "9a0dcd78",
   "metadata": {
    "scrolled": true
   },
   "outputs": [
    {
     "name": "stdout",
     "output_type": "stream",
     "text": [
      "[6 9]\n",
      "[3 5 7]\n"
     ]
    }
   ],
   "source": [
    "print(a.sum(axis = 0))\n",
    "print(a.sum(axis = 1))"
   ]
  },
  {
   "cell_type": "code",
   "execution_count": 119,
   "id": "099a5b7e",
   "metadata": {
    "scrolled": false
   },
   "outputs": [
    {
     "name": "stdout",
     "output_type": "stream",
     "text": [
      "[[1.         1.41421356]\n",
      " [1.41421356 1.73205081]\n",
      " [1.73205081 2.        ]]\n",
      "Standard deviation :  0.9574271077563381\n"
     ]
    }
   ],
   "source": [
    "print(np.sqrt(a))\n",
    "print(\"Standard deviation : \",np.std(a))"
   ]
  },
  {
   "cell_type": "code",
   "execution_count": 120,
   "id": "c3c0f88c",
   "metadata": {
    "scrolled": true
   },
   "outputs": [
    {
     "name": "stdout",
     "output_type": "stream",
     "text": [
      "[[ 7  9]\n",
      " [11 13]]\n",
      "[[ 6 14]\n",
      " [24 36]]\n",
      "[[0.16666667 0.28571429]\n",
      " [0.375      0.44444444]]\n",
      "Dot product :  [[22 25]\n",
      " [50 57]]\n"
     ]
    }
   ],
   "source": [
    "a = np.array([[1,2], [3,4]])\n",
    "b = np.array([[6,7], [8,9]])\n",
    "print(a+b)\n",
    "print(a*b)\n",
    "print(a/b)\n",
    "print(\"Dot product : \",a.dot(b))"
   ]
  },
  {
   "cell_type": "markdown",
   "id": "4096b9ff",
   "metadata": {},
   "source": [
    "# Time comparison"
   ]
  },
  {
   "cell_type": "code",
   "execution_count": 121,
   "id": "1574c638",
   "metadata": {},
   "outputs": [
    {
     "name": "stdout",
     "output_type": "stream",
     "text": [
      " , it took time :  0.0  sec\n",
      " , it took time :  0.0  sec\n"
     ]
    }
   ],
   "source": [
    "import time\n",
    "\n",
    "Size = 1000000\n",
    "\n",
    "l1 = range(Size)\n",
    "l2 = range(Size)\n",
    "# print(l1)\n",
    "n1 = np.array(Size)\n",
    "n2 = np.array(Size)\n",
    "\n",
    "start = time.time()\n",
    "# print(start)\n",
    "result = [((x + y) for x,y in zip(l1,l2))]\n",
    "print(\" , it took time : \", ( (time.time() - start)*10000 ), \" sec\")\n",
    "# print( ((time.time() - start)*1000 ),\"=======================================\")\n",
    "\n",
    "# print(n1)\n",
    "\n",
    "start = time.time()\n",
    "result = n1 + n2\n",
    "print(\" , it took time : \", ( (time.time() - start)*10000 ), \" sec\")\n"
   ]
  },
  {
   "cell_type": "markdown",
   "id": "471005e2",
   "metadata": {},
   "source": [
    "# Slicing & Stacking"
   ]
  },
  {
   "cell_type": "code",
   "execution_count": 127,
   "id": "1e7bc8b3",
   "metadata": {},
   "outputs": [
    {
     "name": "stdout",
     "output_type": "stream",
     "text": [
      "[7 8 9]\n",
      "[ 9 10]\n"
     ]
    }
   ],
   "source": [
    "a = np.array([6, 7, 8, 9, 10, 11])\n",
    "print(a[1:4])\n",
    "print(a[-3:-1])"
   ]
  },
  {
   "cell_type": "code",
   "execution_count": 129,
   "id": "694c3169",
   "metadata": {},
   "outputs": [
    {
     "name": "stdout",
     "output_type": "stream",
     "text": [
      "[[1 2 3]\n",
      " [4 5 6]\n",
      " [7 8 9]]\n"
     ]
    }
   ],
   "source": [
    "a = np.array([[1, 2, 3], [4, 5, 6], [7, 8, 9]])\n",
    "print(a)\n"
   ]
  },
  {
   "cell_type": "code",
   "execution_count": 132,
   "id": "cfbe2379",
   "metadata": {},
   "outputs": [
    {
     "name": "stdout",
     "output_type": "stream",
     "text": [
      "6\n",
      "[3 6]\n",
      "[[1 2]\n",
      " [4 5]]\n"
     ]
    }
   ],
   "source": [
    "print(a[1, 2])\n",
    "print(a[0:2, 2])\n",
    "print(a[0:2,0:2])"
   ]
  },
  {
   "cell_type": "code",
   "execution_count": 134,
   "id": "4bc6d09a",
   "metadata": {},
   "outputs": [
    {
     "name": "stdout",
     "output_type": "stream",
     "text": [
      "[[2 3]\n",
      " [5 6]\n",
      " [8 9]]\n"
     ]
    }
   ],
   "source": [
    "print(a[:,1:3])"
   ]
  },
  {
   "cell_type": "code",
   "execution_count": 138,
   "id": "3f89d19e",
   "metadata": {},
   "outputs": [
    {
     "name": "stdout",
     "output_type": "stream",
     "text": [
      "[1 2 3]\n",
      "[4 5 6]\n",
      "[7 8 9]\n"
     ]
    }
   ],
   "source": [
    "for row in a:\n",
    "    print(row)"
   ]
  },
  {
   "cell_type": "markdown",
   "id": "edb5c108",
   "metadata": {},
   "source": [
    "for cell in a.flat:\n",
    "    print(cell)"
   ]
  },
  {
   "cell_type": "markdown",
   "id": "646e1daf",
   "metadata": {},
   "source": [
    "# stacking"
   ]
  },
  {
   "cell_type": "code",
   "execution_count": 150,
   "id": "5b204656",
   "metadata": {},
   "outputs": [
    {
     "name": "stdout",
     "output_type": "stream",
     "text": [
      "[[0 1]\n",
      " [2 3]\n",
      " [4 5]]\n",
      "=====\n",
      "[[ 6  7]\n",
      " [ 8  9]\n",
      " [10 11]]\n"
     ]
    }
   ],
   "source": [
    "arr1 = np.arange(6).reshape(3, 2)\n",
    "arr2 = np.arange(6, 12).reshape(3, 2)\n",
    "print(arr1)\n",
    "print(\"=====\")\n",
    "print(arr2)"
   ]
  },
  {
   "cell_type": "code",
   "execution_count": 153,
   "id": "835702ce",
   "metadata": {},
   "outputs": [
    {
     "name": "stdout",
     "output_type": "stream",
     "text": [
      "[[ 0  1]\n",
      " [ 2  3]\n",
      " [ 4  5]\n",
      " [ 6  7]\n",
      " [ 8  9]\n",
      " [10 11]]\n",
      "[[ 0  1  6  7]\n",
      " [ 2  3  8  9]\n",
      " [ 4  5 10 11]]\n"
     ]
    }
   ],
   "source": [
    "print(np.vstack((arr1, arr2))) # vertical stacking\n",
    "print(np.hstack((arr1, arr2))) # Horizontal stacking"
   ]
  },
  {
   "cell_type": "code",
   "execution_count": 160,
   "id": "a895bc62",
   "metadata": {},
   "outputs": [
    {
     "name": "stdout",
     "output_type": "stream",
     "text": [
      "[[0]\n",
      " [2]\n",
      " [4]]\n",
      "[[1]\n",
      " [3]\n",
      " [5]]\n",
      "=========\n",
      "[[0 1]]\n",
      "[[2 3]]\n",
      "[[4 5]]\n"
     ]
    }
   ],
   "source": [
    "qq = np.hsplit(arr1, 2)\n",
    "print(qq[0])\n",
    "print(qq[1])\n",
    "print('=========')\n",
    "qq = np.vsplit(arr1, 3)\n",
    "print(qq[0])\n",
    "print(qq[1])\n",
    "print(qq[2])"
   ]
  },
  {
   "cell_type": "markdown",
   "id": "133a8188",
   "metadata": {},
   "source": [
    "# Boolean array"
   ]
  },
  {
   "cell_type": "code",
   "execution_count": 161,
   "id": "407e444d",
   "metadata": {},
   "outputs": [
    {
     "name": "stdout",
     "output_type": "stream",
     "text": [
      "[[False False False]\n",
      " [False  True  True]\n",
      " [ True  True  True]]\n"
     ]
    }
   ],
   "source": [
    "qq = a>4\n",
    "print(qq)"
   ]
  },
  {
   "cell_type": "code",
   "execution_count": 162,
   "id": "1d85a3de",
   "metadata": {},
   "outputs": [
    {
     "data": {
      "text/plain": [
       "array([5, 6, 7, 8, 9])"
      ]
     },
     "execution_count": 162,
     "metadata": {},
     "output_type": "execute_result"
    }
   ],
   "source": [
    "print(a[qq]) # extracting elements having greater than 4"
   ]
  },
  {
   "cell_type": "code",
   "execution_count": 165,
   "id": "6c279744",
   "metadata": {},
   "outputs": [
    {
     "name": "stdout",
     "output_type": "stream",
     "text": [
      "[[ 1  2  3]\n",
      " [ 4 -1 -1]\n",
      " [-1 -1 -1]]\n"
     ]
    }
   ],
   "source": [
    "a[qq] = -1 # replacing elemnts with conditions\n",
    "print(a)"
   ]
  },
  {
   "cell_type": "markdown",
   "id": "de4d94a1",
   "metadata": {},
   "source": [
    "# iterate numpy array using nditer"
   ]
  },
  {
   "cell_type": "code",
   "execution_count": 166,
   "id": "55f96e88",
   "metadata": {},
   "outputs": [
    {
     "name": "stdout",
     "output_type": "stream",
     "text": [
      "[[ 5  6  7  8]\n",
      " [ 9 10 11 12]\n",
      " [13 14 15 16]\n",
      " [17 18 19 20]]\n"
     ]
    }
   ],
   "source": [
    "arr1 = np.arange(5, 21).reshape(4, 4)\n",
    "print(arr1)\n"
   ]
  },
  {
   "cell_type": "code",
   "execution_count": 168,
   "id": "c49e1f22",
   "metadata": {},
   "outputs": [
    {
     "name": "stdout",
     "output_type": "stream",
     "text": [
      "5\n",
      "6\n",
      "7\n",
      "8\n",
      "9\n",
      "10\n",
      "11\n",
      "12\n",
      "13\n",
      "14\n",
      "15\n",
      "16\n",
      "17\n",
      "18\n",
      "19\n",
      "20\n"
     ]
    }
   ],
   "source": [
    "for x in np.nditer(arr1, order='C'): # c-order c_index\n",
    "    print(x)\n"
   ]
  },
  {
   "cell_type": "code",
   "execution_count": 169,
   "id": "a743c58f",
   "metadata": {},
   "outputs": [
    {
     "name": "stdout",
     "output_type": "stream",
     "text": [
      "5\n",
      "9\n",
      "13\n",
      "17\n",
      "6\n",
      "10\n",
      "14\n",
      "18\n",
      "7\n",
      "11\n",
      "15\n",
      "19\n",
      "8\n",
      "12\n",
      "16\n",
      "20\n"
     ]
    }
   ],
   "source": [
    "for x in np.nditer(arr1, order='F'): # fortern order\n",
    "    print(x)"
   ]
  },
  {
   "cell_type": "code",
   "execution_count": 170,
   "id": "cb44fd69",
   "metadata": {},
   "outputs": [
    {
     "name": "stdout",
     "output_type": "stream",
     "text": [
      "[ 5  9 13 17]\n",
      "[ 6 10 14 18]\n",
      "[ 7 11 15 19]\n",
      "[ 8 12 16 20]\n"
     ]
    }
   ],
   "source": [
    "for x in np.nditer(arr1, order='F', flags=['external_loop']): # fortern order w/external_loop\n",
    "    print(x)"
   ]
  },
  {
   "cell_type": "code",
   "execution_count": 171,
   "id": "6ba968e7",
   "metadata": {},
   "outputs": [
    {
     "name": "stdout",
     "output_type": "stream",
     "text": [
      "[[ 25  36  49  64]\n",
      " [ 81 100 121 144]\n",
      " [169 196 225 256]\n",
      " [289 324 361 400]]\n"
     ]
    }
   ],
   "source": [
    "for x in np.nditer(arr1, op_flags=['readwrite']): # editing or changing values in array\n",
    "    x[...]=x*x\n",
    "print(arr1)"
   ]
  },
  {
   "cell_type": "code",
   "execution_count": 186,
   "id": "2c7a6860",
   "metadata": {
    "scrolled": true
   },
   "outputs": [
    {
     "name": "stdout",
     "output_type": "stream",
     "text": [
      "[[ 3]\n",
      " [ 6]\n",
      " [ 9]\n",
      " [12]]\n"
     ]
    }
   ],
   "source": [
    "arr2 = np.arange(3, 15, 3).reshape(4, 1)\n",
    "print(arr2)"
   ]
  },
  {
   "cell_type": "code",
   "execution_count": 187,
   "id": "82859650",
   "metadata": {},
   "outputs": [
    {
     "name": "stdout",
     "output_type": "stream",
     "text": [
      "3 25\n",
      "3 36\n",
      "3 49\n",
      "3 64\n",
      "6 81\n",
      "6 100\n",
      "6 121\n",
      "6 144\n",
      "9 169\n",
      "9 196\n",
      "9 225\n",
      "9 256\n",
      "12 289\n",
      "12 324\n",
      "12 361\n",
      "12 400\n"
     ]
    }
   ],
   "source": [
    "for x, y in np.nditer([arr2, arr1]):\n",
    "    print(x, y)"
   ]
  },
  {
   "cell_type": "code",
   "execution_count": null,
   "id": "3ac9831a",
   "metadata": {},
   "outputs": [],
   "source": []
  },
  {
   "cell_type": "code",
   "execution_count": null,
   "id": "fe403743",
   "metadata": {},
   "outputs": [],
   "source": []
  },
  {
   "cell_type": "code",
   "execution_count": null,
   "id": "05f9657c",
   "metadata": {},
   "outputs": [],
   "source": []
  },
  {
   "cell_type": "code",
   "execution_count": null,
   "id": "63bd0ac0",
   "metadata": {},
   "outputs": [],
   "source": []
  },
  {
   "cell_type": "code",
   "execution_count": null,
   "id": "42f21f41",
   "metadata": {},
   "outputs": [],
   "source": []
  }
 ],
 "metadata": {
  "kernelspec": {
   "display_name": "Python 3 (ipykernel)",
   "language": "python",
   "name": "python3"
  },
  "language_info": {
   "codemirror_mode": {
    "name": "ipython",
    "version": 3
   },
   "file_extension": ".py",
   "mimetype": "text/x-python",
   "name": "python",
   "nbconvert_exporter": "python",
   "pygments_lexer": "ipython3",
   "version": "3.9.6"
  }
 },
 "nbformat": 4,
 "nbformat_minor": 5
}
